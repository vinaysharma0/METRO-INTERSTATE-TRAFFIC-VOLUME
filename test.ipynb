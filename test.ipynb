{
 "cells": [
  {
   "cell_type": "code",
   "execution_count": 1,
   "metadata": {},
   "outputs": [],
   "source": [
    "import pandas as pd\n",
    "import matplotlib.pyplot as plt"
   ]
  },
  {
   "cell_type": "code",
   "execution_count": 2,
   "metadata": {},
   "outputs": [],
   "source": [
    "df = pd.read_csv('Metro_Interstate_Traffic_Volume.csv')"
   ]
  },
  {
   "cell_type": "code",
   "execution_count": 3,
   "metadata": {},
   "outputs": [
    {
     "data": {
      "text/html": [
       "<div>\n",
       "<style scoped>\n",
       "    .dataframe tbody tr th:only-of-type {\n",
       "        vertical-align: middle;\n",
       "    }\n",
       "\n",
       "    .dataframe tbody tr th {\n",
       "        vertical-align: top;\n",
       "    }\n",
       "\n",
       "    .dataframe thead th {\n",
       "        text-align: right;\n",
       "    }\n",
       "</style>\n",
       "<table border=\"1\" class=\"dataframe\">\n",
       "  <thead>\n",
       "    <tr style=\"text-align: right;\">\n",
       "      <th></th>\n",
       "      <th>holiday</th>\n",
       "      <th>temp</th>\n",
       "      <th>rain_1h</th>\n",
       "      <th>snow_1h</th>\n",
       "      <th>clouds_all</th>\n",
       "      <th>weather_main</th>\n",
       "      <th>weather_description</th>\n",
       "      <th>date_time</th>\n",
       "      <th>traffic_volume</th>\n",
       "    </tr>\n",
       "  </thead>\n",
       "  <tbody>\n",
       "    <tr>\n",
       "      <th>0</th>\n",
       "      <td>None</td>\n",
       "      <td>288.28</td>\n",
       "      <td>0.0</td>\n",
       "      <td>0.0</td>\n",
       "      <td>40</td>\n",
       "      <td>Clouds</td>\n",
       "      <td>scattered clouds</td>\n",
       "      <td>2012-10-02 09:00:00</td>\n",
       "      <td>5545</td>\n",
       "    </tr>\n",
       "    <tr>\n",
       "      <th>1</th>\n",
       "      <td>None</td>\n",
       "      <td>289.36</td>\n",
       "      <td>0.0</td>\n",
       "      <td>0.0</td>\n",
       "      <td>75</td>\n",
       "      <td>Clouds</td>\n",
       "      <td>broken clouds</td>\n",
       "      <td>2012-10-02 10:00:00</td>\n",
       "      <td>4516</td>\n",
       "    </tr>\n",
       "    <tr>\n",
       "      <th>2</th>\n",
       "      <td>None</td>\n",
       "      <td>289.58</td>\n",
       "      <td>0.0</td>\n",
       "      <td>0.0</td>\n",
       "      <td>90</td>\n",
       "      <td>Clouds</td>\n",
       "      <td>overcast clouds</td>\n",
       "      <td>2012-10-02 11:00:00</td>\n",
       "      <td>4767</td>\n",
       "    </tr>\n",
       "    <tr>\n",
       "      <th>3</th>\n",
       "      <td>None</td>\n",
       "      <td>290.13</td>\n",
       "      <td>0.0</td>\n",
       "      <td>0.0</td>\n",
       "      <td>90</td>\n",
       "      <td>Clouds</td>\n",
       "      <td>overcast clouds</td>\n",
       "      <td>2012-10-02 12:00:00</td>\n",
       "      <td>5026</td>\n",
       "    </tr>\n",
       "    <tr>\n",
       "      <th>4</th>\n",
       "      <td>None</td>\n",
       "      <td>291.14</td>\n",
       "      <td>0.0</td>\n",
       "      <td>0.0</td>\n",
       "      <td>75</td>\n",
       "      <td>Clouds</td>\n",
       "      <td>broken clouds</td>\n",
       "      <td>2012-10-02 13:00:00</td>\n",
       "      <td>4918</td>\n",
       "    </tr>\n",
       "  </tbody>\n",
       "</table>\n",
       "</div>"
      ],
      "text/plain": [
       "  holiday    temp  rain_1h  snow_1h  clouds_all weather_main  \\\n",
       "0    None  288.28      0.0      0.0          40       Clouds   \n",
       "1    None  289.36      0.0      0.0          75       Clouds   \n",
       "2    None  289.58      0.0      0.0          90       Clouds   \n",
       "3    None  290.13      0.0      0.0          90       Clouds   \n",
       "4    None  291.14      0.0      0.0          75       Clouds   \n",
       "\n",
       "  weather_description            date_time  traffic_volume  \n",
       "0    scattered clouds  2012-10-02 09:00:00            5545  \n",
       "1       broken clouds  2012-10-02 10:00:00            4516  \n",
       "2     overcast clouds  2012-10-02 11:00:00            4767  \n",
       "3     overcast clouds  2012-10-02 12:00:00            5026  \n",
       "4       broken clouds  2012-10-02 13:00:00            4918  "
      ]
     },
     "execution_count": 3,
     "metadata": {},
     "output_type": "execute_result"
    }
   ],
   "source": [
    "df.head()"
   ]
  },
  {
   "cell_type": "code",
   "execution_count": 5,
   "metadata": {},
   "outputs": [],
   "source": [
    "import pyspark\n",
    "from pyspark.sql import SparkSession"
   ]
  },
  {
   "cell_type": "code",
   "execution_count": 6,
   "metadata": {},
   "outputs": [],
   "source": [
    "spark = SparkSession \\\n",
    ".builder \\\n",
    ".getOrCreate()"
   ]
  },
  {
   "cell_type": "code",
   "execution_count": 8,
   "metadata": {},
   "outputs": [],
   "source": [
    "df.to_parquet('Metro_Interstate_Traffic_Volume.parquet')"
   ]
  },
  {
   "cell_type": "code",
   "execution_count": 9,
   "metadata": {},
   "outputs": [],
   "source": [
    "df_new = spark.read.parquet('Metro_Interstate_Traffic_Volume.parquet')"
   ]
  },
  {
   "cell_type": "code",
   "execution_count": 10,
   "metadata": {},
   "outputs": [
    {
     "name": "stdout",
     "output_type": "stream",
     "text": [
      "+-------+------+-------+-------+----------+------------+-------------------+-------------------+--------------+\n",
      "|holiday|  temp|rain_1h|snow_1h|clouds_all|weather_main|weather_description|          date_time|traffic_volume|\n",
      "+-------+------+-------+-------+----------+------------+-------------------+-------------------+--------------+\n",
      "|   None|288.28|    0.0|    0.0|        40|      Clouds|   scattered clouds|2012-10-02 09:00:00|          5545|\n",
      "|   None|289.36|    0.0|    0.0|        75|      Clouds|      broken clouds|2012-10-02 10:00:00|          4516|\n",
      "|   None|289.58|    0.0|    0.0|        90|      Clouds|    overcast clouds|2012-10-02 11:00:00|          4767|\n",
      "|   None|290.13|    0.0|    0.0|        90|      Clouds|    overcast clouds|2012-10-02 12:00:00|          5026|\n",
      "|   None|291.14|    0.0|    0.0|        75|      Clouds|      broken clouds|2012-10-02 13:00:00|          4918|\n",
      "|   None|291.72|    0.0|    0.0|         1|       Clear|       sky is clear|2012-10-02 14:00:00|          5181|\n",
      "|   None|293.17|    0.0|    0.0|         1|       Clear|       sky is clear|2012-10-02 15:00:00|          5584|\n",
      "|   None|293.86|    0.0|    0.0|         1|       Clear|       sky is clear|2012-10-02 16:00:00|          6015|\n",
      "|   None|294.14|    0.0|    0.0|        20|      Clouds|         few clouds|2012-10-02 17:00:00|          5791|\n",
      "|   None| 293.1|    0.0|    0.0|        20|      Clouds|         few clouds|2012-10-02 18:00:00|          4770|\n",
      "|   None|290.97|    0.0|    0.0|        20|      Clouds|         few clouds|2012-10-02 19:00:00|          3539|\n",
      "|   None|289.38|    0.0|    0.0|         1|       Clear|       sky is clear|2012-10-02 20:00:00|          2784|\n",
      "|   None|288.61|    0.0|    0.0|         1|       Clear|       sky is clear|2012-10-02 21:00:00|          2361|\n",
      "|   None|287.16|    0.0|    0.0|         1|       Clear|       sky is clear|2012-10-02 22:00:00|          1529|\n",
      "|   None|285.45|    0.0|    0.0|         1|       Clear|       sky is clear|2012-10-02 23:00:00|           963|\n",
      "|   None|284.63|    0.0|    0.0|         1|       Clear|       sky is clear|2012-10-03 00:00:00|           506|\n",
      "|   None|283.47|    0.0|    0.0|         1|       Clear|       sky is clear|2012-10-03 01:00:00|           321|\n",
      "|   None|281.18|    0.0|    0.0|         1|       Clear|       sky is clear|2012-10-03 02:00:00|           273|\n",
      "|   None|281.09|    0.0|    0.0|         1|       Clear|       sky is clear|2012-10-03 03:00:00|           367|\n",
      "|   None|279.53|    0.0|    0.0|         1|       Clear|       sky is clear|2012-10-03 04:00:00|           814|\n",
      "+-------+------+-------+-------+----------+------------+-------------------+-------------------+--------------+\n",
      "only showing top 20 rows\n",
      "\n"
     ]
    }
   ],
   "source": [
    "df_new.show()"
   ]
  },
  {
   "cell_type": "code",
   "execution_count": 11,
   "metadata": {},
   "outputs": [],
   "source": [
    "df_new.createOrReplaceTempView('df')"
   ]
  },
  {
   "cell_type": "code",
   "execution_count": 24,
   "metadata": {},
   "outputs": [
    {
     "name": "stdout",
     "output_type": "stream",
     "text": [
      "+------+-------------------+\n",
      "|  temp|weather_description|\n",
      "+------+-------------------+\n",
      "|294.14|         few clouds|\n",
      "| 293.1|         few clouds|\n",
      "|290.97|         few clouds|\n",
      "|293.66|         few clouds|\n",
      "|290.65|         few clouds|\n",
      "|288.19|         few clouds|\n",
      "|298.06|         few clouds|\n",
      "|297.67|         few clouds|\n",
      "|276.35|         few clouds|\n",
      "|276.88|         few clouds|\n",
      "|278.04|         few clouds|\n",
      "|273.92|         few clouds|\n",
      "|273.08|         few clouds|\n",
      "|272.62|         few clouds|\n",
      "|269.61|         few clouds|\n",
      "|270.01|         few clouds|\n",
      "|271.23|         few clouds|\n",
      "|273.71|         few clouds|\n",
      "|276.77|         few clouds|\n",
      "|279.47|         few clouds|\n",
      "+------+-------------------+\n",
      "only showing top 20 rows\n",
      "\n"
     ]
    }
   ],
   "source": [
    "weather_desc_few_clouds = spark.sql(\"\"\"\n",
    "\n",
    "select temp, weather_description from df where weather_description = 'few clouds'\n",
    "\n",
    "\"\"\")\n",
    "weather_desc_few_clouds.show()"
   ]
  },
  {
   "cell_type": "code",
   "execution_count": 59,
   "metadata": {},
   "outputs": [
    {
     "data": {
      "text/plain": [
       "1956"
      ]
     },
     "execution_count": 59,
     "metadata": {},
     "output_type": "execute_result"
    }
   ],
   "source": [
    "weather_desc_few_clouds.count()"
   ]
  },
  {
   "cell_type": "code",
   "execution_count": 40,
   "metadata": {},
   "outputs": [],
   "source": [
    "pdf = weather_desc_few_clouds.toPandas()"
   ]
  },
  {
   "cell_type": "code",
   "execution_count": 47,
   "metadata": {},
   "outputs": [
    {
     "data": {
      "text/plain": [
       "<matplotlib.collections.PathCollection at 0x7f678ad0a850>"
      ]
     },
     "execution_count": 47,
     "metadata": {},
     "output_type": "execute_result"
    },
    {
     "data": {
      "image/png": "[encoded data removed]",
      "text/plain": [
       "<Figure size 432x288 with 1 Axes>"
      ]
     },
     "metadata": {
      "needs_background": "light"
     },
     "output_type": "display_data"
    }
   ],
   "source": [
    "plt.scatter( pdf.weather_description,pdf.temp)"
   ]
  },
  {
   "cell_type": "code",
   "execution_count": 62,
   "metadata": {},
   "outputs": [
    {
     "data": {
      "text/plain": [
       "<BarContainer object of 1956 artists>"
      ]
     },
     "execution_count": 62,
     "metadata": {},
     "output_type": "execute_result"
    },
    {
     "data": {
      "image/png": "[encoded data removed]",
      "text/plain": [
       "<Figure size 432x288 with 1 Axes>"
      ]
     },
     "metadata": {
      "needs_background": "light"
     },
     "output_type": "display_data"
    }
   ],
   "source": [
    "plt.bar(pdf.temp, df.traffic_volume[:1956])"
   ]
  },
  {
   "cell_type": "code",
   "execution_count": 66,
   "metadata": {},
   "outputs": [
    {
     "name": "stdout",
     "output_type": "stream",
     "text": [
      "+-------+------+-------+-------+----------+------------+-------------------+-------------------+--------------+\n",
      "|holiday|  temp|rain_1h|snow_1h|clouds_all|weather_main|weather_description|          date_time|traffic_volume|\n",
      "+-------+------+-------+-------+----------+------------+-------------------+-------------------+--------------+\n",
      "|   None|288.28|    0.0|    0.0|        40|      Clouds|   scattered clouds|2012-10-02 09:00:00|          5545|\n",
      "|   None|289.36|    0.0|    0.0|        75|      Clouds|      broken clouds|2012-10-02 10:00:00|          4516|\n",
      "|   None|289.58|    0.0|    0.0|        90|      Clouds|    overcast clouds|2012-10-02 11:00:00|          4767|\n",
      "|   None|290.13|    0.0|    0.0|        90|      Clouds|    overcast clouds|2012-10-02 12:00:00|          5026|\n",
      "|   None|291.14|    0.0|    0.0|        75|      Clouds|      broken clouds|2012-10-02 13:00:00|          4918|\n",
      "|   None|291.72|    0.0|    0.0|         1|       Clear|       sky is clear|2012-10-02 14:00:00|          5181|\n",
      "|   None|293.17|    0.0|    0.0|         1|       Clear|       sky is clear|2012-10-02 15:00:00|          5584|\n",
      "|   None|293.86|    0.0|    0.0|         1|       Clear|       sky is clear|2012-10-02 16:00:00|          6015|\n",
      "|   None|294.14|    0.0|    0.0|        20|      Clouds|         few clouds|2012-10-02 17:00:00|          5791|\n",
      "|   None| 293.1|    0.0|    0.0|        20|      Clouds|         few clouds|2012-10-02 18:00:00|          4770|\n",
      "|   None|290.97|    0.0|    0.0|        20|      Clouds|         few clouds|2012-10-02 19:00:00|          3539|\n",
      "|   None|289.38|    0.0|    0.0|         1|       Clear|       sky is clear|2012-10-02 20:00:00|          2784|\n",
      "|   None|288.61|    0.0|    0.0|         1|       Clear|       sky is clear|2012-10-02 21:00:00|          2361|\n",
      "|   None|287.16|    0.0|    0.0|         1|       Clear|       sky is clear|2012-10-02 22:00:00|          1529|\n",
      "|   None|285.45|    0.0|    0.0|         1|       Clear|       sky is clear|2012-10-02 23:00:00|           963|\n",
      "|   None|284.63|    0.0|    0.0|         1|       Clear|       sky is clear|2012-10-03 00:00:00|           506|\n",
      "|   None|283.47|    0.0|    0.0|         1|       Clear|       sky is clear|2012-10-03 01:00:00|           321|\n",
      "|   None|281.18|    0.0|    0.0|         1|       Clear|       sky is clear|2012-10-03 02:00:00|           273|\n",
      "|   None|281.09|    0.0|    0.0|         1|       Clear|       sky is clear|2012-10-03 03:00:00|           367|\n",
      "|   None|279.53|    0.0|    0.0|         1|       Clear|       sky is clear|2012-10-03 04:00:00|           814|\n",
      "+-------+------+-------+-------+----------+------------+-------------------+-------------------+--------------+\n",
      "only showing top 20 rows\n",
      "\n"
     ]
    }
   ],
   "source": [
    "df_new.show()"
   ]
  },
  {
   "cell_type": "code",
   "execution_count": 68,
   "metadata": {},
   "outputs": [
    {
     "name": "stdout",
     "output_type": "stream",
     "text": [
      "+--------------------+\n",
      "|             holiday|\n",
      "+--------------------+\n",
      "|                None|\n",
      "|    Thanksgiving Day|\n",
      "|        Veterans Day|\n",
      "|    Independence Day|\n",
      "|          State Fair|\n",
      "|        Columbus Day|\n",
      "|        Memorial Day|\n",
      "|       New Years Day|\n",
      "|Martin Luther Kin...|\n",
      "|Washingtons Birthday|\n",
      "|       Christmas Day|\n",
      "|           Labor Day|\n",
      "+--------------------+\n",
      "\n"
     ]
    }
   ],
   "source": [
    "distinct_holiday = spark.sql(\"\"\"\n",
    "\n",
    "select distinct(holiday) from df\n",
    "\n",
    "\"\"\")\n",
    "distinct_holiday.show()"
   ]
  },
  {
   "cell_type": "code",
   "execution_count": 74,
   "metadata": {},
   "outputs": [
    {
     "name": "stdout",
     "output_type": "stream",
     "text": [
      "+--------------------+-------------------+\n",
      "|             holiday|sum(traffic_volume)|\n",
      "+--------------------+-------------------+\n",
      "|                None|          157083492|\n",
      "|    Thanksgiving Day|               5601|\n",
      "|        Veterans Day|               3457|\n",
      "|    Independence Day|               5380|\n",
      "|          State Fair|               3174|\n",
      "|        Columbus Day|               2597|\n",
      "|        Memorial Day|               5538|\n",
      "|       New Years Day|               8136|\n",
      "|Martin Luther Kin...|               3676|\n",
      "|Washingtons Birthday|               3176|\n",
      "|       Christmas Day|               4965|\n",
      "|           Labor Day|               7092|\n",
      "+--------------------+-------------------+\n",
      "\n"
     ]
    }
   ],
   "source": [
    "distinct_holiday_1 = spark.sql(\"\"\"\n",
    "\n",
    "select distinct(holiday), sum(traffic_volume) from df group by holiday\n",
    "\n",
    "\"\"\")\n",
    "distinct_holiday_1.show()"
   ]
  },
  {
   "cell_type": "code",
   "execution_count": 75,
   "metadata": {},
   "outputs": [],
   "source": [
    "from pyspark.ml.feature import StringIndexer"
   ]
  },
  {
   "cell_type": "code",
   "execution_count": 139,
   "metadata": {},
   "outputs": [],
   "source": [
    "indexer = StringIndexer(inputCol = 'holiday', outputCol = 'Holidays_in_num')\n",
    "indexer2 = StringIndexer(inputCol = 'weather_main', outputCol = 'weather_main_in_num')\n",
    "indexer3 = StringIndexer(inputCol = 'weather_description', outputCol = 'weather_des_in_num')"
   ]
  },
  {
   "cell_type": "code",
   "execution_count": 140,
   "metadata": {},
   "outputs": [],
   "source": [
    "from pyspark.ml import Pipeline"
   ]
  },
  {
   "cell_type": "code",
   "execution_count": 141,
   "metadata": {},
   "outputs": [],
   "source": [
    "pipeline = Pipeline(stages = (indexer, indexer2, indexer3))"
   ]
  },
  {
   "cell_type": "code",
   "execution_count": 142,
   "metadata": {},
   "outputs": [],
   "source": [
    "model = pipeline.fit(df_new)"
   ]
  },
  {
   "cell_type": "code",
   "execution_count": 143,
   "metadata": {},
   "outputs": [],
   "source": [
    "data = model.transform(df_new)"
   ]
  },
  {
   "cell_type": "code",
   "execution_count": 144,
   "metadata": {},
   "outputs": [
    {
     "name": "stdout",
     "output_type": "stream",
     "text": [
      "+-------+------+-------+-------+----------+------------+-------------------+-------------------+--------------+---------------+-------------------+------------------+\n",
      "|holiday|  temp|rain_1h|snow_1h|clouds_all|weather_main|weather_description|          date_time|traffic_volume|Holidays_in_num|weather_main_in_num|weather_des_in_num|\n",
      "+-------+------+-------+-------+----------+------------+-------------------+-------------------+--------------+---------------+-------------------+------------------+\n",
      "|   None|288.28|    0.0|    0.0|        40|      Clouds|   scattered clouds|2012-10-02 09:00:00|          5545|            0.0|                0.0|               4.0|\n",
      "|   None|289.36|    0.0|    0.0|        75|      Clouds|      broken clouds|2012-10-02 10:00:00|          4516|            0.0|                0.0|               3.0|\n",
      "|   None|289.58|    0.0|    0.0|        90|      Clouds|    overcast clouds|2012-10-02 11:00:00|          4767|            0.0|                0.0|               2.0|\n",
      "|   None|290.13|    0.0|    0.0|        90|      Clouds|    overcast clouds|2012-10-02 12:00:00|          5026|            0.0|                0.0|               2.0|\n",
      "|   None|291.14|    0.0|    0.0|        75|      Clouds|      broken clouds|2012-10-02 13:00:00|          4918|            0.0|                0.0|               3.0|\n",
      "|   None|291.72|    0.0|    0.0|         1|       Clear|       sky is clear|2012-10-02 14:00:00|          5181|            0.0|                1.0|               0.0|\n",
      "|   None|293.17|    0.0|    0.0|         1|       Clear|       sky is clear|2012-10-02 15:00:00|          5584|            0.0|                1.0|               0.0|\n",
      "|   None|293.86|    0.0|    0.0|         1|       Clear|       sky is clear|2012-10-02 16:00:00|          6015|            0.0|                1.0|               0.0|\n",
      "|   None|294.14|    0.0|    0.0|        20|      Clouds|         few clouds|2012-10-02 17:00:00|          5791|            0.0|                0.0|               6.0|\n",
      "|   None| 293.1|    0.0|    0.0|        20|      Clouds|         few clouds|2012-10-02 18:00:00|          4770|            0.0|                0.0|               6.0|\n",
      "|   None|290.97|    0.0|    0.0|        20|      Clouds|         few clouds|2012-10-02 19:00:00|          3539|            0.0|                0.0|               6.0|\n",
      "|   None|289.38|    0.0|    0.0|         1|       Clear|       sky is clear|2012-10-02 20:00:00|          2784|            0.0|                1.0|               0.0|\n",
      "|   None|288.61|    0.0|    0.0|         1|       Clear|       sky is clear|2012-10-02 21:00:00|          2361|            0.0|                1.0|               0.0|\n",
      "|   None|287.16|    0.0|    0.0|         1|       Clear|       sky is clear|2012-10-02 22:00:00|          1529|            0.0|                1.0|               0.0|\n",
      "|   None|285.45|    0.0|    0.0|         1|       Clear|       sky is clear|2012-10-02 23:00:00|           963|            0.0|                1.0|               0.0|\n",
      "|   None|284.63|    0.0|    0.0|         1|       Clear|       sky is clear|2012-10-03 00:00:00|           506|            0.0|                1.0|               0.0|\n",
      "|   None|283.47|    0.0|    0.0|         1|       Clear|       sky is clear|2012-10-03 01:00:00|           321|            0.0|                1.0|               0.0|\n",
      "|   None|281.18|    0.0|    0.0|         1|       Clear|       sky is clear|2012-10-03 02:00:00|           273|            0.0|                1.0|               0.0|\n",
      "|   None|281.09|    0.0|    0.0|         1|       Clear|       sky is clear|2012-10-03 03:00:00|           367|            0.0|                1.0|               0.0|\n",
      "|   None|279.53|    0.0|    0.0|         1|       Clear|       sky is clear|2012-10-03 04:00:00|           814|            0.0|                1.0|               0.0|\n",
      "+-------+------+-------+-------+----------+------------+-------------------+-------------------+--------------+---------------+-------------------+------------------+\n",
      "only showing top 20 rows\n",
      "\n"
     ]
    }
   ],
   "source": [
    "data.show()"
   ]
  },
  {
   "cell_type": "code",
   "execution_count": 152,
   "metadata": {},
   "outputs": [],
   "source": [
    "data.createOrReplaceTempView('df')"
   ]
  },
  {
   "cell_type": "code",
   "execution_count": 153,
   "metadata": {},
   "outputs": [],
   "source": [
    "holidays_encoding = spark.sql(\"\"\"\n",
    "\n",
    "select distinct(Holidays_in_num) , holiday from df order by Holidays_in_num asc\n",
    "\n",
    "\"\"\")"
   ]
  },
  {
   "cell_type": "code",
   "execution_count": 154,
   "metadata": {},
   "outputs": [
    {
     "name": "stdout",
     "output_type": "stream",
     "text": [
      "+---------------+--------------------+\n",
      "|Holidays_in_num|             holiday|\n",
      "+---------------+--------------------+\n",
      "|            0.0|                None|\n",
      "|            1.0|           Labor Day|\n",
      "|            2.0|Martin Luther Kin...|\n",
      "|            3.0|    Thanksgiving Day|\n",
      "|            4.0|       New Years Day|\n",
      "|            5.0|       Christmas Day|\n",
      "|            6.0|    Independence Day|\n",
      "|            7.0|          State Fair|\n",
      "|            8.0|        Veterans Day|\n",
      "|            9.0|        Columbus Day|\n",
      "|           10.0|Washingtons Birthday|\n",
      "|           11.0|        Memorial Day|\n",
      "+---------------+--------------------+\n",
      "\n"
     ]
    }
   ],
   "source": [
    "holidays_encoding.show()"
   ]
  },
  {
   "cell_type": "code",
   "execution_count": 155,
   "metadata": {},
   "outputs": [
    {
     "name": "stdout",
     "output_type": "stream",
     "text": [
      "+-------------------+------------+\n",
      "|weather_main_in_num|weather_main|\n",
      "+-------------------+------------+\n",
      "|                0.0|      Clouds|\n",
      "|                1.0|       Clear|\n",
      "|                2.0|        Mist|\n",
      "|                3.0|        Rain|\n",
      "|                4.0|        Snow|\n",
      "|                5.0|     Drizzle|\n",
      "|                6.0|        Haze|\n",
      "|                7.0|Thunderstorm|\n",
      "|                8.0|         Fog|\n",
      "|                9.0|       Smoke|\n",
      "|               10.0|      Squall|\n",
      "+-------------------+------------+\n",
      "\n"
     ]
    }
   ],
   "source": [
    "weather_main_encoding = spark.sql(\"\"\"\n",
    "\n",
    "select distinct(weather_main_in_num) , weather_main from df order by weather_main_in_num asc\n",
    "\n",
    "\"\"\")\n",
    "weather_main_encoding.show()"
   ]
  },
  {
   "cell_type": "code",
   "execution_count": 156,
   "metadata": {},
   "outputs": [
    {
     "name": "stdout",
     "output_type": "stream",
     "text": [
      "+-------------------+------------+\n",
      "|weather_main_in_num|weather_main|\n",
      "+-------------------+------------+\n",
      "|                0.0|      Clouds|\n",
      "|                1.0|       Clear|\n",
      "|                2.0|        Mist|\n",
      "|                3.0|        Rain|\n",
      "|                4.0|        Snow|\n",
      "|                5.0|     Drizzle|\n",
      "|                6.0|        Haze|\n",
      "|                7.0|Thunderstorm|\n",
      "|                8.0|         Fog|\n",
      "|                9.0|       Smoke|\n",
      "|               10.0|      Squall|\n",
      "+-------------------+------------+\n",
      "\n"
     ]
    }
   ],
   "source": [
    "weather_des_encoding = spark.sql(\"\"\"\n",
    "\n",
    "select distinct(weather_des_in_num) , weather_description from df order by weather_des_in_num asc\n",
    "\n",
    "\"\"\")\n",
    "weather_main_encoding.show()"
   ]
  },
  {
   "cell_type": "code",
   "execution_count": 157,
   "metadata": {},
   "outputs": [],
   "source": [
    "final_data = data"
   ]
  },
  {
   "cell_type": "code",
   "execution_count": 158,
   "metadata": {},
   "outputs": [
    {
     "name": "stdout",
     "output_type": "stream",
     "text": [
      "+-------+------+-------+-------+----------+------------+-------------------+-------------------+--------------+---------------+-------------------+------------------+\n",
      "|holiday|  temp|rain_1h|snow_1h|clouds_all|weather_main|weather_description|          date_time|traffic_volume|Holidays_in_num|weather_main_in_num|weather_des_in_num|\n",
      "+-------+------+-------+-------+----------+------------+-------------------+-------------------+--------------+---------------+-------------------+------------------+\n",
      "|   None|288.28|    0.0|    0.0|        40|      Clouds|   scattered clouds|2012-10-02 09:00:00|          5545|            0.0|                0.0|               4.0|\n",
      "|   None|289.36|    0.0|    0.0|        75|      Clouds|      broken clouds|2012-10-02 10:00:00|          4516|            0.0|                0.0|               3.0|\n",
      "|   None|289.58|    0.0|    0.0|        90|      Clouds|    overcast clouds|2012-10-02 11:00:00|          4767|            0.0|                0.0|               2.0|\n",
      "|   None|290.13|    0.0|    0.0|        90|      Clouds|    overcast clouds|2012-10-02 12:00:00|          5026|            0.0|                0.0|               2.0|\n",
      "|   None|291.14|    0.0|    0.0|        75|      Clouds|      broken clouds|2012-10-02 13:00:00|          4918|            0.0|                0.0|               3.0|\n",
      "|   None|291.72|    0.0|    0.0|         1|       Clear|       sky is clear|2012-10-02 14:00:00|          5181|            0.0|                1.0|               0.0|\n",
      "|   None|293.17|    0.0|    0.0|         1|       Clear|       sky is clear|2012-10-02 15:00:00|          5584|            0.0|                1.0|               0.0|\n",
      "|   None|293.86|    0.0|    0.0|         1|       Clear|       sky is clear|2012-10-02 16:00:00|          6015|            0.0|                1.0|               0.0|\n",
      "|   None|294.14|    0.0|    0.0|        20|      Clouds|         few clouds|2012-10-02 17:00:00|          5791|            0.0|                0.0|               6.0|\n",
      "|   None| 293.1|    0.0|    0.0|        20|      Clouds|         few clouds|2012-10-02 18:00:00|          4770|            0.0|                0.0|               6.0|\n",
      "|   None|290.97|    0.0|    0.0|        20|      Clouds|         few clouds|2012-10-02 19:00:00|          3539|            0.0|                0.0|               6.0|\n",
      "|   None|289.38|    0.0|    0.0|         1|       Clear|       sky is clear|2012-10-02 20:00:00|          2784|            0.0|                1.0|               0.0|\n",
      "|   None|288.61|    0.0|    0.0|         1|       Clear|       sky is clear|2012-10-02 21:00:00|          2361|            0.0|                1.0|               0.0|\n",
      "|   None|287.16|    0.0|    0.0|         1|       Clear|       sky is clear|2012-10-02 22:00:00|          1529|            0.0|                1.0|               0.0|\n",
      "|   None|285.45|    0.0|    0.0|         1|       Clear|       sky is clear|2012-10-02 23:00:00|           963|            0.0|                1.0|               0.0|\n",
      "|   None|284.63|    0.0|    0.0|         1|       Clear|       sky is clear|2012-10-03 00:00:00|           506|            0.0|                1.0|               0.0|\n",
      "|   None|283.47|    0.0|    0.0|         1|       Clear|       sky is clear|2012-10-03 01:00:00|           321|            0.0|                1.0|               0.0|\n",
      "|   None|281.18|    0.0|    0.0|         1|       Clear|       sky is clear|2012-10-03 02:00:00|           273|            0.0|                1.0|               0.0|\n",
      "|   None|281.09|    0.0|    0.0|         1|       Clear|       sky is clear|2012-10-03 03:00:00|           367|            0.0|                1.0|               0.0|\n",
      "|   None|279.53|    0.0|    0.0|         1|       Clear|       sky is clear|2012-10-03 04:00:00|           814|            0.0|                1.0|               0.0|\n",
      "+-------+------+-------+-------+----------+------------+-------------------+-------------------+--------------+---------------+-------------------+------------------+\n",
      "only showing top 20 rows\n",
      "\n"
     ]
    }
   ],
   "source": [
    "final_data.show()"
   ]
  },
  {
   "cell_type": "code",
   "execution_count": 162,
   "metadata": {},
   "outputs": [],
   "source": [
    "final_data = final_data.drop('holiday', 'weather_main', 'weather_description' )"
   ]
  },
  {
   "cell_type": "code",
   "execution_count": 163,
   "metadata": {},
   "outputs": [
    {
     "name": "stdout",
     "output_type": "stream",
     "text": [
      "+------+-------+-------+----------+-------------------+--------------+---------------+-------------------+------------------+\n",
      "|  temp|rain_1h|snow_1h|clouds_all|          date_time|traffic_volume|Holidays_in_num|weather_main_in_num|weather_des_in_num|\n",
      "+------+-------+-------+----------+-------------------+--------------+---------------+-------------------+------------------+\n",
      "|288.28|    0.0|    0.0|        40|2012-10-02 09:00:00|          5545|            0.0|                0.0|               4.0|\n",
      "|289.36|    0.0|    0.0|        75|2012-10-02 10:00:00|          4516|            0.0|                0.0|               3.0|\n",
      "|289.58|    0.0|    0.0|        90|2012-10-02 11:00:00|          4767|            0.0|                0.0|               2.0|\n",
      "|290.13|    0.0|    0.0|        90|2012-10-02 12:00:00|          5026|            0.0|                0.0|               2.0|\n",
      "|291.14|    0.0|    0.0|        75|2012-10-02 13:00:00|          4918|            0.0|                0.0|               3.0|\n",
      "|291.72|    0.0|    0.0|         1|2012-10-02 14:00:00|          5181|            0.0|                1.0|               0.0|\n",
      "|293.17|    0.0|    0.0|         1|2012-10-02 15:00:00|          5584|            0.0|                1.0|               0.0|\n",
      "|293.86|    0.0|    0.0|         1|2012-10-02 16:00:00|          6015|            0.0|                1.0|               0.0|\n",
      "|294.14|    0.0|    0.0|        20|2012-10-02 17:00:00|          5791|            0.0|                0.0|               6.0|\n",
      "| 293.1|    0.0|    0.0|        20|2012-10-02 18:00:00|          4770|            0.0|                0.0|               6.0|\n",
      "|290.97|    0.0|    0.0|        20|2012-10-02 19:00:00|          3539|            0.0|                0.0|               6.0|\n",
      "|289.38|    0.0|    0.0|         1|2012-10-02 20:00:00|          2784|            0.0|                1.0|               0.0|\n",
      "|288.61|    0.0|    0.0|         1|2012-10-02 21:00:00|          2361|            0.0|                1.0|               0.0|\n",
      "|287.16|    0.0|    0.0|         1|2012-10-02 22:00:00|          1529|            0.0|                1.0|               0.0|\n",
      "|285.45|    0.0|    0.0|         1|2012-10-02 23:00:00|           963|            0.0|                1.0|               0.0|\n",
      "|284.63|    0.0|    0.0|         1|2012-10-03 00:00:00|           506|            0.0|                1.0|               0.0|\n",
      "|283.47|    0.0|    0.0|         1|2012-10-03 01:00:00|           321|            0.0|                1.0|               0.0|\n",
      "|281.18|    0.0|    0.0|         1|2012-10-03 02:00:00|           273|            0.0|                1.0|               0.0|\n",
      "|281.09|    0.0|    0.0|         1|2012-10-03 03:00:00|           367|            0.0|                1.0|               0.0|\n",
      "|279.53|    0.0|    0.0|         1|2012-10-03 04:00:00|           814|            0.0|                1.0|               0.0|\n",
      "+------+-------+-------+----------+-------------------+--------------+---------------+-------------------+------------------+\n",
      "only showing top 20 rows\n",
      "\n"
     ]
    }
   ],
   "source": [
    "final_data.show()"
   ]
  },
  {
   "cell_type": "code",
   "execution_count": 165,
   "metadata": {},
   "outputs": [
    {
     "data": {
      "text/plain": [
       "['temp',\n",
       " 'rain_1h',\n",
       " 'snow_1h',\n",
       " 'clouds_all',\n",
       " 'date_time',\n",
       " 'traffic_volume',\n",
       " 'Holidays_in_num',\n",
       " 'weather_main_in_num',\n",
       " 'weather_des_in_num']"
      ]
     },
     "execution_count": 165,
     "metadata": {},
     "output_type": "execute_result"
    }
   ],
   "source": [
    "final_data.columns"
   ]
  },
  {
   "cell_type": "code",
   "execution_count": 169,
   "metadata": {},
   "outputs": [],
   "source": [
    "final_data = final_data.select(\"date_time\",\"Holidays_in_num\",\"weather_main_in_num\",\"weather_des_in_num\",\"rain_1h\",\"snow_1h\",\"clouds_all\",\"traffic_volume\")"
   ]
  },
  {
   "cell_type": "code",
   "execution_count": 170,
   "metadata": {},
   "outputs": [
    {
     "name": "stdout",
     "output_type": "stream",
     "text": [
      "+-------------------+---------------+-------------------+------------------+-------+-------+----------+--------------+\n",
      "|          date_time|Holidays_in_num|weather_main_in_num|weather_des_in_num|rain_1h|snow_1h|clouds_all|traffic_volume|\n",
      "+-------------------+---------------+-------------------+------------------+-------+-------+----------+--------------+\n",
      "|2012-10-02 09:00:00|            0.0|                0.0|               4.0|    0.0|    0.0|        40|          5545|\n",
      "|2012-10-02 10:00:00|            0.0|                0.0|               3.0|    0.0|    0.0|        75|          4516|\n",
      "|2012-10-02 11:00:00|            0.0|                0.0|               2.0|    0.0|    0.0|        90|          4767|\n",
      "|2012-10-02 12:00:00|            0.0|                0.0|               2.0|    0.0|    0.0|        90|          5026|\n",
      "|2012-10-02 13:00:00|            0.0|                0.0|               3.0|    0.0|    0.0|        75|          4918|\n",
      "|2012-10-02 14:00:00|            0.0|                1.0|               0.0|    0.0|    0.0|         1|          5181|\n",
      "|2012-10-02 15:00:00|            0.0|                1.0|               0.0|    0.0|    0.0|         1|          5584|\n",
      "|2012-10-02 16:00:00|            0.0|                1.0|               0.0|    0.0|    0.0|         1|          6015|\n",
      "|2012-10-02 17:00:00|            0.0|                0.0|               6.0|    0.0|    0.0|        20|          5791|\n",
      "|2012-10-02 18:00:00|            0.0|                0.0|               6.0|    0.0|    0.0|        20|          4770|\n",
      "|2012-10-02 19:00:00|            0.0|                0.0|               6.0|    0.0|    0.0|        20|          3539|\n",
      "|2012-10-02 20:00:00|            0.0|                1.0|               0.0|    0.0|    0.0|         1|          2784|\n",
      "|2012-10-02 21:00:00|            0.0|                1.0|               0.0|    0.0|    0.0|         1|          2361|\n",
      "|2012-10-02 22:00:00|            0.0|                1.0|               0.0|    0.0|    0.0|         1|          1529|\n",
      "|2012-10-02 23:00:00|            0.0|                1.0|               0.0|    0.0|    0.0|         1|           963|\n",
      "|2012-10-03 00:00:00|            0.0|                1.0|               0.0|    0.0|    0.0|         1|           506|\n",
      "|2012-10-03 01:00:00|            0.0|                1.0|               0.0|    0.0|    0.0|         1|           321|\n",
      "|2012-10-03 02:00:00|            0.0|                1.0|               0.0|    0.0|    0.0|         1|           273|\n",
      "|2012-10-03 03:00:00|            0.0|                1.0|               0.0|    0.0|    0.0|         1|           367|\n",
      "|2012-10-03 04:00:00|            0.0|                1.0|               0.0|    0.0|    0.0|         1|           814|\n",
      "+-------------------+---------------+-------------------+------------------+-------+-------+----------+--------------+\n",
      "only showing top 20 rows\n",
      "\n"
     ]
    }
   ],
   "source": [
    "final_data.show()"
   ]
  },
  {
   "cell_type": "code",
   "execution_count": 183,
   "metadata": {},
   "outputs": [
    {
     "data": {
      "text/plain": [
       "array([[<matplotlib.axes._subplots.AxesSubplot object at 0x7f675b46d410>,\n",
       "        <matplotlib.axes._subplots.AxesSubplot object at 0x7f675c576a10>,\n",
       "        <matplotlib.axes._subplots.AxesSubplot object at 0x7f675c544d50>],\n",
       "       [<matplotlib.axes._subplots.AxesSubplot object at 0x7f675cfc2a50>,\n",
       "        <matplotlib.axes._subplots.AxesSubplot object at 0x7f675ba73d90>,\n",
       "        <matplotlib.axes._subplots.AxesSubplot object at 0x7f675c5f8a90>],\n",
       "       [<matplotlib.axes._subplots.AxesSubplot object at 0x7f675c46ced0>,\n",
       "        <matplotlib.axes._subplots.AxesSubplot object at 0x7f675c4f2ad0>,\n",
       "        <matplotlib.axes._subplots.AxesSubplot object at 0x7f675c4e7610>]],\n",
       "      dtype=object)"
      ]
     },
     "execution_count": 183,
     "metadata": {},
     "output_type": "execute_result"
    },
    {
     "data": {
      "image/png": "[encoded data removed]",
      "text/plain": [
       "<Figure size 432x288 with 9 Axes>"
      ]
     },
     "metadata": {
      "needs_background": "light"
     },
     "output_type": "display_data"
    }
   ],
   "source": [
    "final_data.toPandas().hist()"
   ]
  },
  {
   "cell_type": "code",
   "execution_count": null,
   "metadata": {},
   "outputs": [],
   "source": []
  }
 ],
 "metadata": {
  "kernelspec": {
   "display_name": "Python 3",
   "language": "python",
   "name": "python3"
  },
  "language_info": {
   "codemirror_mode": {
    "name": "ipython",
    "version": 3
   },
   "file_extension": ".py",
   "mimetype": "text/x-python",
   "name": "python",
   "nbconvert_exporter": "python",
   "pygments_lexer": "ipython3",
   "version": "3.7.6"
  }
 },
 "nbformat": 4,
 "nbformat_minor": 4
}
